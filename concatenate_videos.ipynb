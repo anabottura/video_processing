{
 "cells": [
  {
   "cell_type": "markdown",
   "metadata": {},
   "source": [
    "# Concatenate videos"
   ]
  },
  {
   "cell_type": "code",
   "execution_count": null,
   "metadata": {},
   "outputs": [],
   "source": [
    "# Import ncessary modules\n",
    "from os import path\n",
    "import cv2"
   ]
  },
  {
   "cell_type": "markdown",
   "metadata": {},
   "source": [
    "Change variables below to point to folder and files that you need to be processed."
   ]
  },
  {
   "cell_type": "code",
   "execution_count": null,
   "metadata": {},
   "outputs": [],
   "source": [
    "# Data files should be .avi's and have the following form:\n",
    "# '<dataDir><dataFilePrefix><startingFileNum>.avi'\n",
    "\n",
    "# Values users can modify:\n",
    "dataDir = \"./\" # directory where videos are stored\n",
    "dataFilePrefix = ''\n",
    "startingFileNum = 0\n",
    "framesPerFile = 1000 # This is the default setting for the Miniscope software. If you changed it in software change it here too.\n",
    "# -------------------------------\n",
    "\n",
    "# Makes sure path ends with '/'\n",
    "if (dataDir[-1] != \"/\"):\n",
    "    dataDir = dataDir + \"/\"\n",
    "\n",
    "# Select one below -\n",
    "compressionCodec = \"FFV1\"\n",
    "# compressionCodec = \"GREY\"\n",
    "# compressionCodec = 'XVID'\n",
    "# --------------------"
   ]
  },
  {
   "cell_type": "markdown",
   "metadata": {},
   "source": [
    "Initialise video capture and writer"
   ]
  },
  {
   "cell_type": "code",
   "execution_count": null,
   "metadata": {},
   "outputs": [],
   "source": [
    "fileNum = startingFileNum\n",
    "frameCount = 0\n",
    "\n",
    "codec = cv2.VideoWriter_fourcc(*compressionCodec)\n",
    "\n",
    "cap_list = []\n",
    "\n",
    "while (path.exists(dataDir + dataFilePrefix + \"{:.0f}.avi\".format(fileNum))):\n",
    "    cap_list.append(cv2.VideoCapture(dataDir + dataFilePrefix + \"{:.0f}.avi\".format(fileNum)))\n",
    "    fileNum = fileNum + 1\n",
    "    \n",
    "cols = int(cap_list[0].get(cv2.CAP_PROP_FRAME_WIDTH))\n",
    "rows = int(cap_list[0].get(cv2.CAP_PROP_FRAME_HEIGHT))\n",
    "\n",
    "\n",
    "writeFile = cv2.VideoWriter((dataDir + dataFilePrefix + \"concat.avi\"), fourcc=codec, fps=30, frameSize=(cols,rows))"
   ]
  },
  {
   "cell_type": "markdown",
   "metadata": {},
   "source": [
    "Concatenate videos"
   ]
  },
  {
   "cell_type": "code",
   "execution_count": null,
   "metadata": {},
   "outputs": [],
   "source": [
    "for cap in cap_list:\n",
    "    # frame_count = 0\n",
    "    while cap.isOpened():\n",
    "        # print(frame_count)\n",
    "        ret, frame = cap.read()\n",
    "        # frame_count += 1\n",
    "        \n",
    "        if (ret is False):\n",
    "            break\n",
    "        else:\n",
    "            writeFile.write(frame)\n",
    "\n",
    "writeFile.release()\n",
    "\n",
    "cv2.destroyAllWindows()"
   ]
  }
 ],
 "metadata": {
  "language_info": {
   "name": "python"
  },
  "orig_nbformat": 4
 },
 "nbformat": 4,
 "nbformat_minor": 2
}
